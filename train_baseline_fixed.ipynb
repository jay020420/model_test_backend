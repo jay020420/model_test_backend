{
 "cells": [
  {
   "cell_type": "code",
   "id": "0f1fdb29",
   "metadata": {
    "ExecuteTime": {
     "end_time": "2025-10-05T04:07:33.782659Z",
     "start_time": "2025-10-05T04:07:33.278763Z"
    }
   },
   "source": [
    "# 필수 패키지\n",
    "%pip -q install pandas numpy scikit-learn matplotlib python-dateutil"
   ],
   "outputs": [
    {
     "name": "stdout",
     "output_type": "stream",
     "text": [
      "Note: you may need to restart the kernel to use updated packages.\n"
     ]
    }
   ],
   "execution_count": 1
  },
  {
   "cell_type": "code",
   "id": "cbd6fd20",
   "metadata": {
    "ExecuteTime": {
     "end_time": "2025-10-05T04:07:45.154782Z",
     "start_time": "2025-10-05T04:07:44.936879Z"
    }
   },
   "source": [
    "import os, sys, warnings, pandas as pd, numpy as np\n",
    "\n",
    "warnings.filterwarnings(\"ignore\")\n",
    "\n",
    "BASE_DIR = \"/Users/llouis/Documents/model_test\"\n",
    "DATA_DIR = os.path.join(BASE_DIR, \"data\")\n",
    "\n",
    "sys.path.insert(0, BASE_DIR)\n",
    "from pipeline import run_pipeline\n",
    "\n",
    "print(\"BASE_DIR:\", BASE_DIR)\n",
    "print(\"DATA_DIR:\", DATA_DIR)"
   ],
   "outputs": [
    {
     "name": "stdout",
     "output_type": "stream",
     "text": [
      "BASE_DIR: /Users/llouis/Documents/model_test\n",
      "DATA_DIR: /Users/llouis/Documents/model_test/data\n"
     ]
    }
   ],
   "execution_count": 2
  },
  {
   "cell_type": "code",
   "id": "c5a8113e",
   "metadata": {
    "ExecuteTime": {
     "end_time": "2025-10-05T04:08:00.988465Z",
     "start_time": "2025-10-05T04:08:00.816233Z"
    }
   },
   "source": [
    "def read_csv_smart(path):\n",
    "    for enc in [\"utf-8\", \"cp949\", \"euc-kr\", \"latin1\"]:\n",
    "        try:\n",
    "            return pd.read_csv(path, encoding=enc)\n",
    "        except Exception:\n",
    "            pass\n",
    "    raise RuntimeError(f\"CSV 인코딩 해석 실패: {path}\")\n",
    "\n",
    "\n",
    "ds1 = read_csv_smart(os.path.join(DATA_DIR, \"big_data_set1_f.csv\"))\n",
    "ds2 = read_csv_smart(os.path.join(DATA_DIR, \"ds2_monthly_usage.csv\"))\n",
    "ds3 = read_csv_smart(os.path.join(DATA_DIR, \"ds3_monthly_customers.csv\"))\n",
    "\n",
    "print(ds1.shape, ds2.shape, ds3.shape)"
   ],
   "outputs": [
    {
     "name": "stdout",
     "output_type": "stream",
     "text": [
      "(4185, 9) (86590, 15) (86590, 17)\n"
     ]
    }
   ],
   "execution_count": 3
  },
  {
   "cell_type": "code",
   "id": "0e351df1",
   "metadata": {
    "ExecuteTime": {
     "end_time": "2025-10-05T04:08:23.503439Z",
     "start_time": "2025-10-05T04:08:22.437874Z"
    }
   },
   "source": [
    "from dateutil.relativedelta import relativedelta\n",
    "\n",
    "KEY_MCT, KEY_YM = \"ENCODED_MCT\", \"TA_YM\"\n",
    "\n",
    "\n",
    "def to_month(s):\n",
    "    dt = pd.to_datetime(s.astype(str), errors=\"coerce\")\n",
    "    return pd.to_datetime(dt.dt.to_period(\"M\").astype(str))\n",
    "\n",
    "\n",
    "def build_labels_robust(ds1, ds2, ds3, k_months=3, topq=0.10):\n",
    "    # 1) 베이스 프레임(월 정규화)\n",
    "    df = ds2.merge(ds3, on=[KEY_MCT, KEY_YM], how=\"outer\")\n",
    "    df[KEY_YM] = to_month(df[KEY_YM])\n",
    "    df[KEY_MCT] = df[KEY_MCT].astype(str)\n",
    "    df = df.sort_values([KEY_MCT, KEY_YM]).reset_index(drop=True)\n",
    "    df[\"y\"] = 0\n",
    "\n",
    "    # 2) 실라벨 (폐업일)\n",
    "    used_real = False\n",
    "    if \"MCT_ME_D\" in ds1.columns:\n",
    "        tmp = ds1[[KEY_MCT, \"MCT_ME_D\"]].copy()\n",
    "        tmp[KEY_MCT] = tmp[KEY_MCT].astype(str)\n",
    "        tmp[\"MCT_ME_D\"] = pd.to_datetime(tmp[\"MCT_ME_D\"], errors=\"coerce\")\n",
    "        df = df.merge(tmp, on=KEY_MCT, how=\"left\")\n",
    "        t0 = df[KEY_YM]\n",
    "        tK = t0 + pd.offsets.MonthEnd(0) + pd.DateOffset(months=k_months)\n",
    "        cond = (df[\"MCT_ME_D\"].notna()) & (df[\"MCT_ME_D\"] > t0) & (df[\"MCT_ME_D\"] <= tK)\n",
    "        df.loc[cond, \"y\"] = 1\n",
    "        used_real = df[\"y\"].sum() > 0\n",
    "\n",
    "    # 3) 프록시 라벨 (급락/취소/해지 과열)\n",
    "    if df[\"y\"].nunique() < 2:\n",
    "        def bin2num(s):\n",
    "            s = s.astype(str)\n",
    "            m = s.str.extract(r\"(\\d+)\", expand=False)\n",
    "            return pd.to_numeric(m, errors=\"coerce\")\n",
    "\n",
    "        df[\"RC_SAA_num\"] = bin2num(df.get(\"RC_M1_SAA\", \"\"))\n",
    "        df[\"RC_CUS_num\"] = bin2num(df.get(\"RC_M1_UE_CUS_CN\", \"\"))\n",
    "\n",
    "        df[\"dSAA\"] = df.groupby(KEY_MCT)[\"RC_SAA_num\"].diff()\n",
    "        df[\"dCUS\"] = df.groupby(KEY_MCT)[\"RC_CUS_num\"].diff()\n",
    "\n",
    "        cxl = pd.to_numeric(df.get(\"APV_CE_RAT\", 0), errors=\"coerce\")\n",
    "        indme = pd.to_numeric(df.get(\"M12_SME_RY_ME_MCT_RAT\", 0), errors=\"coerce\")\n",
    "        bznme = pd.to_numeric(df.get(\"M12_SME_BZN_ME_MCT_RAT\", 0), errors=\"coerce\")\n",
    "\n",
    "        sig = 0\n",
    "        sig += (df[\"dSAA\"] <= -10).astype(int)\n",
    "        sig += (df[\"dCUS\"] <= -10).astype(int)\n",
    "        sig += (cxl >= 90).astype(int)\n",
    "        sig += (indme >= 80).astype(int)\n",
    "        sig += (bznme >= 80).astype(int)\n",
    "        df[\"y_proxy\"] = (sig >= 2).astype(int)\n",
    "\n",
    "        if df[\"y_proxy\"].nunique() >= 2 and df[\"y_proxy\"].sum() > 0:\n",
    "            df[\"y\"] = df[\"y_proxy\"]\n",
    "\n",
    "    if df[\"y\"].nunique() < 2:\n",
    "        out = run_pipeline(ds1, ds2, ds3, preds=None)\n",
    "        outj = out.merge(df[[KEY_MCT, KEY_YM]], on=[KEY_MCT, KEY_YM], how=\"right\")\n",
    "        pf = pd.to_numeric(outj[\"p_final\"], errors=\"coerce\").fillna(0)\n",
    "        thr = pf.quantile(1 - topq)\n",
    "        df[\"y\"] = (pf >= thr).astype(int)\n",
    "\n",
    "    return df\n",
    "\n",
    "\n",
    "robust_df = build_labels_robust(ds1, ds2, ds3, k_months=3, topq=0.10)\n",
    "print(\"Label counts:\", robust_df[\"y\"].value_counts(dropna=False).to_dict())"
   ],
   "outputs": [
    {
     "name": "stdout",
     "output_type": "stream",
     "text": [
      "Label counts: {1: 86590}\n"
     ]
    }
   ],
   "execution_count": 4
  },
  {
   "cell_type": "code",
   "id": "6eb1787f",
   "metadata": {
    "ExecuteTime": {
     "end_time": "2025-10-05T04:08:31.065323Z",
     "start_time": "2025-10-05T04:08:29.146895Z"
    }
   },
   "source": [
    "from sklearn.model_selection import train_test_split\n",
    "from sklearn.preprocessing import OneHotEncoder\n",
    "from sklearn.compose import ColumnTransformer\n",
    "from sklearn.pipeline import Pipeline\n",
    "from sklearn.impute import SimpleImputer\n",
    "from sklearn.linear_model import LogisticRegression\n",
    "from sklearn.ensemble import RandomForestClassifier, GradientBoostingClassifier, IsolationForest\n",
    "from sklearn.metrics import roc_auc_score, average_precision_score\n",
    "import numpy as np\n",
    "\n",
    "num_cols = [\n",
    "    \"M1_SME_RY_SAA_RAT\", \"M1_SME_RY_CNT_RAT\",\n",
    "    \"M12_SME_RY_SAA_PCE_RT\", \"M12_SME_BZN_SAA_PCE_RT\",\n",
    "    \"M12_SME_RY_ME_MCT_RAT\", \"M12_SME_BZN_ME_MCT_RAT\",\n",
    "    \"DLV_SAA_RAT\", \"MCT_UE_CLN_REU_RAT\", \"MCT_UE_CLN_NEW_RAT\"\n",
    "]\n",
    "cat_cols = [c for c in [\"HPSN_MCT_ZCD_NM\", \"HPSN_MCT_BZN_CD_NM\"] if c in robust_df.columns]\n",
    "\n",
    "X = robust_df[num_cols + cat_cols].copy()\n",
    "y = robust_df[\"y\"].astype(int)\n",
    "\n",
    "num_transform = Pipeline([(\"imp\", SimpleImputer(strategy=\"median\"))])\n",
    "ct = ColumnTransformer([\n",
    "    (\"num\", num_transform, num_cols),\n",
    "    (\"cat\", OneHotEncoder(handle_unknown=\"ignore\"), cat_cols)\n",
    "], remainder=\"drop\")\n",
    "\n",
    "\n",
    "def fit_supervised(X, y):\n",
    "    X_train, X_test, y_train, y_test = train_test_split(\n",
    "        X, y, stratify=y if y.nunique() > 1 else None, test_size=0.25, random_state=42\n",
    "    )\n",
    "    models = {\n",
    "        \"logit\": LogisticRegression(max_iter=200, class_weight=\"balanced\"),\n",
    "        \"rf\": RandomForestClassifier(n_estimators=300, random_state=42, n_jobs=-1, class_weight=\"balanced\"),\n",
    "        \"gb\": GradientBoostingClassifier(random_state=42)\n",
    "    }\n",
    "    res, pipes = {}, {}\n",
    "    for name, clf in models.items():\n",
    "        pipe = Pipeline([(\"prep\", ct), (\"clf\", clf)])\n",
    "        pipe.fit(X_train, y_train)\n",
    "        p = pipe.predict_proba(X_test)[:, 1] if hasattr(pipe, \"predict_proba\") else 1 / (\n",
    "                    1 + np.exp(-pipe.decision_function(X_test)))\n",
    "        res[name] = {\"roc_auc\": float(roc_auc_score(y_test, p)), \"pr_auc\": float(average_precision_score(y_test, p))}\n",
    "        pipes[name] = pipe\n",
    "    return res, pipes\n",
    "\n",
    "\n",
    "def fit_oneclass(X):\n",
    "    pipe = Pipeline(\n",
    "        [(\"prep\", ct), (\"clf\", IsolationForest(n_estimators=400, contamination=0.10, random_state=42, n_jobs=-1))])\n",
    "    pipe.fit(X)\n",
    "    s = pipe[\"clf\"].score_samples(pipe[\"prep\"].transform(X))\n",
    "    s = (s - s.min()) / (s.max() - s.min() + 1e-9)\n",
    "    p = 1 - s\n",
    "    return {\"oneclass\": {\"note\": \"IsolationForest\"}}, {\"oneclass\": pipe}\n",
    "\n",
    "\n",
    "if y.nunique() >= 2 and y.sum() > 0:\n",
    "    res, pipes = fit_supervised(X, y)\n",
    "    print(\"Supervised metrics:\", res)\n",
    "else:\n",
    "    print(\"Only one class → IsolationForest fallback.\")\n",
    "    res, pipes = fit_oneclass(X)"
   ],
   "outputs": [
    {
     "name": "stdout",
     "output_type": "stream",
     "text": [
      "Only one class → IsolationForest fallback.\n"
     ]
    }
   ],
   "execution_count": 5
  },
  {
   "cell_type": "code",
   "id": "719827d4",
   "metadata": {
    "ExecuteTime": {
     "end_time": "2025-10-05T04:08:40.167254Z",
     "start_time": "2025-10-05T04:08:39.695818Z"
    }
   },
   "source": [
    "def predict_full(pipe_dict, Xf):\n",
    "    P = []\n",
    "    for name, pipe in pipe_dict.items():\n",
    "        if isinstance(pipe.named_steps.get(\"clf\"), IsolationForest):\n",
    "            s = pipe[\"clf\"].score_samples(pipe[\"prep\"].transform(Xf))\n",
    "            s = (s - s.min()) / (s.max() - s.min() + 1e-9)\n",
    "            p = 1 - s\n",
    "        else:\n",
    "            if hasattr(pipe, \"predict_proba\"):\n",
    "                p = pipe.predict_proba(Xf)[:, 1]\n",
    "            else:\n",
    "                sc = pipe.decision_function(Xf);\n",
    "                p = 1 / (1 + np.exp(-sc))\n",
    "        P.append(p)\n",
    "    P = np.vstack(P).T\n",
    "    return P.mean(axis=1)\n",
    "\n",
    "\n",
    "X_full = robust_df[num_cols + cat_cols].copy()\n",
    "pe = predict_full(pipes, X_full)\n",
    "\n",
    "preds_full = robust_df[[\"ENCODED_MCT\", \"TA_YM\"]].copy()\n",
    "preds_full[\"ENCODED_MCT\"] = preds_full[\"ENCODED_MCT\"].astype(str)\n",
    "preds_full[\"TA_YM\"] = pd.to_datetime(preds_full[\"TA_YM\"], errors=\"coerce\").dt.to_period(\"M\").dt.to_timestamp()\n",
    "\n",
    "preds_full[\"pred_xgb\"] = np.nan\n",
    "preds_full[\"pred_lgbm\"] = np.nan\n",
    "preds_full[\"pred_rf\"] = pe\n",
    "preds_full[\"pred_gb\"] = np.nan\n",
    "preds_full[\"pred_dl\"] = np.nan\n",
    "\n",
    "preds_full = preds_full.dropna(subset=[\"ENCODED_MCT\", \"TA_YM\"])  # 키 결측 제거\n",
    "preds_path = os.path.join(DATA_DIR, \"preds.csv\")\n",
    "preds_full.to_csv(preds_path, index=False, encoding=\"utf-8\")\n",
    "print(\"Saved preds:\", preds_path)\n",
    "print(preds_full.dtypes[[\"ENCODED_MCT\", \"TA_YM\"]])"
   ],
   "outputs": [
    {
     "name": "stdout",
     "output_type": "stream",
     "text": [
      "Saved preds: /Users/llouis/Documents/model_test/data/preds.csv\n",
      "ENCODED_MCT            object\n",
      "TA_YM          datetime64[ns]\n",
      "dtype: object\n"
     ]
    }
   ],
   "execution_count": 6
  },
  {
   "cell_type": "code",
   "id": "a51c13cc",
   "metadata": {
    "ExecuteTime": {
     "end_time": "2025-10-05T04:08:48.326202Z",
     "start_time": "2025-10-05T04:08:47.116185Z"
    }
   },
   "source": [
    "preds = pd.read_csv(preds_path)\n",
    "preds[\"ENCODED_MCT\"] = preds[\"ENCODED_MCT\"].astype(str)\n",
    "preds[\"TA_YM\"] = pd.to_datetime(preds[\"TA_YM\"], errors=\"coerce\").dt.to_period(\"M\").dt.to_timestamp()\n",
    "preds = preds.dropna(subset=[\"ENCODED_MCT\", \"TA_YM\"])\n",
    "\n",
    "out = run_pipeline(ds1, ds2, ds3, preds=preds)\n",
    "out_path = os.path.join(BASE_DIR, \"risk_output_trained.csv\")\n",
    "out.to_csv(out_path, index=False, encoding=\"utf-8\")\n",
    "print(\"Saved:\", out_path)\n",
    "out.head(10)"
   ],
   "outputs": [
    {
     "name": "stdout",
     "output_type": "stream",
     "text": [
      "Saved: /Users/llouis/Documents/model_test/risk_output_trained.csv\n"
     ]
    },
    {
     "data": {
      "text/plain": [
       "  ENCODED_MCT      TA_YM  Sales_Risk  Customer_Risk  Market_Risk  RiskScore  \\\n",
       "0  000F03E44A 2023-01-01      0.0296        0.00000     0.556450   0.178775   \n",
       "1  000F03E44A 2023-02-01      0.0296        0.20000     0.560750   0.240065   \n",
       "2  000F03E44A 2023-03-01      0.0298        0.00000     0.561500   0.180370   \n",
       "3  000F03E44A 2023-04-01      0.0312        0.00000     0.559725   0.180397   \n",
       "4  000F03E44A 2023-05-01      0.0309        0.03334     0.563000   0.191262   \n",
       "5  000F03E44A 2023-06-01      0.0317        0.01666     0.562325   0.186375   \n",
       "6  000F03E44A 2023-07-01      0.0312        0.05000     0.564000   0.196680   \n",
       "7  000F03E44A 2023-08-01      0.0313        0.00000     0.563000   0.181420   \n",
       "8  000F03E44A 2023-09-01      0.0308        0.00000     0.559725   0.180237   \n",
       "9  000F03E44A 2023-10-01      0.0307        0.04000     0.561250   0.192655   \n",
       "\n",
       "   p_model   p_final  Alert  \n",
       "0      NaN  0.071510  GREEN  \n",
       "1      NaN  0.096026  GREEN  \n",
       "2      NaN  0.072148  GREEN  \n",
       "3      NaN  0.072159  GREEN  \n",
       "4      NaN  0.076505  GREEN  \n",
       "5      NaN  0.074550  GREEN  \n",
       "6      NaN  0.078672  GREEN  \n",
       "7      NaN  0.072568  GREEN  \n",
       "8      NaN  0.072095  GREEN  \n",
       "9      NaN  0.077062  GREEN  "
      ],
      "text/html": [
       "<div>\n",
       "<style scoped>\n",
       "    .dataframe tbody tr th:only-of-type {\n",
       "        vertical-align: middle;\n",
       "    }\n",
       "\n",
       "    .dataframe tbody tr th {\n",
       "        vertical-align: top;\n",
       "    }\n",
       "\n",
       "    .dataframe thead th {\n",
       "        text-align: right;\n",
       "    }\n",
       "</style>\n",
       "<table border=\"1\" class=\"dataframe\">\n",
       "  <thead>\n",
       "    <tr style=\"text-align: right;\">\n",
       "      <th></th>\n",
       "      <th>ENCODED_MCT</th>\n",
       "      <th>TA_YM</th>\n",
       "      <th>Sales_Risk</th>\n",
       "      <th>Customer_Risk</th>\n",
       "      <th>Market_Risk</th>\n",
       "      <th>RiskScore</th>\n",
       "      <th>p_model</th>\n",
       "      <th>p_final</th>\n",
       "      <th>Alert</th>\n",
       "    </tr>\n",
       "  </thead>\n",
       "  <tbody>\n",
       "    <tr>\n",
       "      <th>0</th>\n",
       "      <td>000F03E44A</td>\n",
       "      <td>2023-01-01</td>\n",
       "      <td>0.0296</td>\n",
       "      <td>0.00000</td>\n",
       "      <td>0.556450</td>\n",
       "      <td>0.178775</td>\n",
       "      <td>NaN</td>\n",
       "      <td>0.071510</td>\n",
       "      <td>GREEN</td>\n",
       "    </tr>\n",
       "    <tr>\n",
       "      <th>1</th>\n",
       "      <td>000F03E44A</td>\n",
       "      <td>2023-02-01</td>\n",
       "      <td>0.0296</td>\n",
       "      <td>0.20000</td>\n",
       "      <td>0.560750</td>\n",
       "      <td>0.240065</td>\n",
       "      <td>NaN</td>\n",
       "      <td>0.096026</td>\n",
       "      <td>GREEN</td>\n",
       "    </tr>\n",
       "    <tr>\n",
       "      <th>2</th>\n",
       "      <td>000F03E44A</td>\n",
       "      <td>2023-03-01</td>\n",
       "      <td>0.0298</td>\n",
       "      <td>0.00000</td>\n",
       "      <td>0.561500</td>\n",
       "      <td>0.180370</td>\n",
       "      <td>NaN</td>\n",
       "      <td>0.072148</td>\n",
       "      <td>GREEN</td>\n",
       "    </tr>\n",
       "    <tr>\n",
       "      <th>3</th>\n",
       "      <td>000F03E44A</td>\n",
       "      <td>2023-04-01</td>\n",
       "      <td>0.0312</td>\n",
       "      <td>0.00000</td>\n",
       "      <td>0.559725</td>\n",
       "      <td>0.180397</td>\n",
       "      <td>NaN</td>\n",
       "      <td>0.072159</td>\n",
       "      <td>GREEN</td>\n",
       "    </tr>\n",
       "    <tr>\n",
       "      <th>4</th>\n",
       "      <td>000F03E44A</td>\n",
       "      <td>2023-05-01</td>\n",
       "      <td>0.0309</td>\n",
       "      <td>0.03334</td>\n",
       "      <td>0.563000</td>\n",
       "      <td>0.191262</td>\n",
       "      <td>NaN</td>\n",
       "      <td>0.076505</td>\n",
       "      <td>GREEN</td>\n",
       "    </tr>\n",
       "    <tr>\n",
       "      <th>5</th>\n",
       "      <td>000F03E44A</td>\n",
       "      <td>2023-06-01</td>\n",
       "      <td>0.0317</td>\n",
       "      <td>0.01666</td>\n",
       "      <td>0.562325</td>\n",
       "      <td>0.186375</td>\n",
       "      <td>NaN</td>\n",
       "      <td>0.074550</td>\n",
       "      <td>GREEN</td>\n",
       "    </tr>\n",
       "    <tr>\n",
       "      <th>6</th>\n",
       "      <td>000F03E44A</td>\n",
       "      <td>2023-07-01</td>\n",
       "      <td>0.0312</td>\n",
       "      <td>0.05000</td>\n",
       "      <td>0.564000</td>\n",
       "      <td>0.196680</td>\n",
       "      <td>NaN</td>\n",
       "      <td>0.078672</td>\n",
       "      <td>GREEN</td>\n",
       "    </tr>\n",
       "    <tr>\n",
       "      <th>7</th>\n",
       "      <td>000F03E44A</td>\n",
       "      <td>2023-08-01</td>\n",
       "      <td>0.0313</td>\n",
       "      <td>0.00000</td>\n",
       "      <td>0.563000</td>\n",
       "      <td>0.181420</td>\n",
       "      <td>NaN</td>\n",
       "      <td>0.072568</td>\n",
       "      <td>GREEN</td>\n",
       "    </tr>\n",
       "    <tr>\n",
       "      <th>8</th>\n",
       "      <td>000F03E44A</td>\n",
       "      <td>2023-09-01</td>\n",
       "      <td>0.0308</td>\n",
       "      <td>0.00000</td>\n",
       "      <td>0.559725</td>\n",
       "      <td>0.180237</td>\n",
       "      <td>NaN</td>\n",
       "      <td>0.072095</td>\n",
       "      <td>GREEN</td>\n",
       "    </tr>\n",
       "    <tr>\n",
       "      <th>9</th>\n",
       "      <td>000F03E44A</td>\n",
       "      <td>2023-10-01</td>\n",
       "      <td>0.0307</td>\n",
       "      <td>0.04000</td>\n",
       "      <td>0.561250</td>\n",
       "      <td>0.192655</td>\n",
       "      <td>NaN</td>\n",
       "      <td>0.077062</td>\n",
       "      <td>GREEN</td>\n",
       "    </tr>\n",
       "  </tbody>\n",
       "</table>\n",
       "</div>"
      ]
     },
     "execution_count": 7,
     "metadata": {},
     "output_type": "execute_result"
    }
   ],
   "execution_count": 7
  },
  {
   "metadata": {},
   "cell_type": "code",
   "outputs": [],
   "execution_count": null,
   "source": "",
   "id": "79d81b28afe47afe"
  }
 ],
 "metadata": {},
 "nbformat": 4,
 "nbformat_minor": 5
}
